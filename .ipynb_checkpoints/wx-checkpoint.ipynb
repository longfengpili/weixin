{
 "cells": [
  {
   "cell_type": "code",
   "execution_count": 89,
   "metadata": {
    "ExecuteTime": {
     "end_time": "2019-01-26T08:27:54.011536Z",
     "start_time": "2019-01-26T08:27:24.913988Z"
    }
   },
   "outputs": [
    {
     "name": "stdout",
     "output_type": "stream",
     "text": [
      "█\r"
     ]
    },
    {
     "name": "stderr",
     "output_type": "stream",
     "text": [
      "Getting uuid of QR code.\n",
      "Downloading QR code.\n",
      "Please scan the QR code to log in.\n",
      "Please press confirm on your phone.\n",
      "Loading the contact, this may take a little while.\n",
      "Login successfully as 龍鳳霹雳\n"
     ]
    }
   ],
   "source": [
    "# 导入模块\n",
    "from wxpy import *\n",
    "# 初始化机器人，扫码登陆\n",
    "bot = Bot()"
   ]
  },
  {
   "cell_type": "code",
   "execution_count": 97,
   "metadata": {
    "ExecuteTime": {
     "end_time": "2019-01-26T08:31:57.530098Z",
     "start_time": "2019-01-26T08:31:57.521123Z"
    }
   },
   "outputs": [
    {
     "data": {
      "text/plain": [
       "<Friend: 鲁靖>"
      ]
     },
     "execution_count": 97,
     "metadata": {},
     "output_type": "execute_result"
    }
   ],
   "source": [
    "# 搜索名称含有 \"游否\" 的男性深圳好友\n",
    "my_friend = bot.friends().search('hua')[0]\n",
    "my_friend"
   ]
  },
  {
   "cell_type": "code",
   "execution_count": 93,
   "metadata": {
    "ExecuteTime": {
     "end_time": "2019-01-26T08:30:47.346129Z",
     "start_time": "2019-01-26T08:30:47.341141Z"
    },
    "scrolled": false
   },
   "outputs": [
    {
     "data": {
      "text/plain": [
       "{'UserName': '@738179ffea3afa3ae90b1bc3ab966fc7',\n",
       " 'City': '海淀',\n",
       " 'DisplayName': '',\n",
       " 'PYQuanPin': 'longfengpili',\n",
       " 'RemarkPYInitial': '',\n",
       " 'Province': '北京',\n",
       " 'KeyWord': 'lon',\n",
       " 'RemarkName': '',\n",
       " 'PYInitial': 'LFPL',\n",
       " 'EncryChatRoomId': '',\n",
       " 'Alias': '',\n",
       " 'Signature': '我就是我！我的真谛！',\n",
       " 'NickName': '龍鳳霹雳',\n",
       " 'RemarkPYQuanPin': '',\n",
       " 'HeadImgUrl': '/cgi-bin/mmwebwx-bin/webwxgeticon?seq=721285&username=@738179ffea3afa3ae90b1bc3ab966fc7&skey=@crypt_5dff3473_38722d693e3178772a14b34dab7025fd',\n",
       " 'UniFriend': 0,\n",
       " 'Sex': 1,\n",
       " 'AppAccountFlag': 0,\n",
       " 'VerifyFlag': 0,\n",
       " 'ChatRoomId': 0,\n",
       " 'HideInputBarFlag': 0,\n",
       " 'AttrStatus': 33656935,\n",
       " 'SnsFlag': 17,\n",
       " 'MemberCount': 0,\n",
       " 'OwnerUin': 0,\n",
       " 'ContactFlag': 7,\n",
       " 'Uin': 312989475,\n",
       " 'StarFriend': 0,\n",
       " 'Statues': 0,\n",
       " 'MemberList': [],\n",
       " 'WebWxPluginSwitch': 0,\n",
       " 'HeadImgFlag': 1,\n",
       " 'IsOwner': 0}"
      ]
     },
     "execution_count": 93,
     "metadata": {},
     "output_type": "execute_result"
    }
   ],
   "source": [
    "bot.self.__dict__['raw']"
   ]
  },
  {
   "cell_type": "code",
   "execution_count": null,
   "metadata": {
    "ExecuteTime": {
     "start_time": "2019-01-24T01:20:34.443Z"
    }
   },
   "outputs": [],
   "source": [
    "import time\n",
    "num = 0\n",
    "for i in range(100):\n",
    "    try:\n",
    "        resp = my_friend.send_msg(f'新春快乐{i}')\n",
    "        num += 1\n",
    "    except Exception as e:\n",
    "        e\n",
    "        time.sleep(5)\n",
    "    \n",
    "    \n",
    "    if num % 20 == 0:\n",
    "        time.sleep(2)\n",
    "        "
   ]
  },
  {
   "cell_type": "code",
   "execution_count": 9,
   "metadata": {
    "ExecuteTime": {
     "end_time": "2019-01-24T00:10:41.250349Z",
     "start_time": "2019-01-24T00:10:41.244366Z"
    }
   },
   "outputs": [
    {
     "data": {
      "text/plain": [
       "<User: 龍鳳霹雳>"
      ]
     },
     "execution_count": 9,
     "metadata": {},
     "output_type": "execute_result"
    }
   ],
   "source": [
    "# 在 Web 微信中把自己加为好友\n",
    "bot.self"
   ]
  },
  {
   "cell_type": "code",
   "execution_count": 68,
   "metadata": {
    "ExecuteTime": {
     "end_time": "2019-01-24T01:08:41.936493Z",
     "start_time": "2019-01-24T01:08:41.931509Z"
    }
   },
   "outputs": [
    {
     "data": {
      "text/plain": [
       "[<Friend: 龍鳳霹雳>]"
      ]
     },
     "execution_count": 68,
     "metadata": {},
     "output_type": "execute_result"
    }
   ],
   "source": [
    "bot.friends()[:1]"
   ]
  },
  {
   "cell_type": "code",
   "execution_count": 69,
   "metadata": {
    "ExecuteTime": {
     "end_time": "2019-01-24T01:08:50.032580Z",
     "start_time": "2019-01-24T01:08:50.027596Z"
    }
   },
   "outputs": [
    {
     "data": {
      "text/plain": [
       "[<Group: 迁安人在北京>]"
      ]
     },
     "execution_count": 69,
     "metadata": {},
     "output_type": "execute_result"
    }
   ],
   "source": [
    "bot.groups()[:1]"
   ]
  },
  {
   "cell_type": "code",
   "execution_count": 70,
   "metadata": {
    "ExecuteTime": {
     "end_time": "2019-01-24T01:08:56.572034Z",
     "start_time": "2019-01-24T01:08:56.565637Z"
    }
   },
   "outputs": [
    {
     "data": {
      "text/plain": [
       "[<MP: 艾瑞咨询>, <MP: 企鹅智库>]"
      ]
     },
     "execution_count": 70,
     "metadata": {},
     "output_type": "execute_result"
    }
   ],
   "source": [
    "bot.mps()[:2]"
   ]
  },
  {
   "cell_type": "code",
   "execution_count": 84,
   "metadata": {
    "ExecuteTime": {
     "end_time": "2019-01-26T05:55:27.094163Z",
     "start_time": "2019-01-26T05:55:27.085188Z"
    }
   },
   "outputs": [
    {
     "data": {
      "text/plain": [
       "<module 'mongoapi' from 'F:\\\\github\\\\weixin\\\\mongoapi.py'>"
      ]
     },
     "execution_count": 84,
     "metadata": {},
     "output_type": "execute_result"
    }
   ],
   "source": [
    "from importlib import reload\n",
    "import mongoapi\n",
    "reload(mongoapi)\n",
    "from mongoapi import mongoapi\n",
    "mongoapi = mongoapi('test','ordersets')"
   ]
  },
  {
   "cell_type": "code",
   "execution_count": 86,
   "metadata": {
    "ExecuteTime": {
     "end_time": "2019-01-26T05:55:33.491999Z",
     "start_time": "2019-01-26T05:55:33.337160Z"
    }
   },
   "outputs": [
    {
     "data": {
      "text/plain": [
       "(0, [])"
      ]
     },
     "execution_count": 86,
     "metadata": {},
     "output_type": "execute_result"
    }
   ],
   "source": [
    "data = mongoapi.select({'user':'tony'})\n",
    "data"
   ]
  },
  {
   "cell_type": "code",
   "execution_count": 76,
   "metadata": {
    "ExecuteTime": {
     "end_time": "2019-01-26T02:45:03.619544Z",
     "start_time": "2019-01-26T02:45:03.407478Z"
    }
   },
   "outputs": [
    {
     "name": "stderr",
     "output_type": "stream",
     "text": [
      "F:\\github\\weixin\\mongoapi.py:40: UserWarning: already exists , not insert!【{'user': 'tony', 'id': '31020', 'age': '30', 'products': ['215120', '245101', '128410'], 'date': '2017-04-06'}】\n",
      "  warnings.warn(f'already exists , not insert!【{post}】')\n"
     ]
    }
   ],
   "source": [
    "mongoapi.insert_one({'user': 'tony', 'id': '31020', 'age': '30', 'products': ['215120', '245101', '128410'], 'date': '2017-04-06'})"
   ]
  },
  {
   "cell_type": "code",
   "execution_count": 77,
   "metadata": {
    "ExecuteTime": {
     "end_time": "2019-01-26T02:45:04.437486Z",
     "start_time": "2019-01-26T02:45:04.288039Z"
    }
   },
   "outputs": [],
   "source": [
    "mongoapi.update_one({'user': 'tony', 'id': '31020', 'age': '30'},{'sex':'male'})"
   ]
  },
  {
   "cell_type": "code",
   "execution_count": 85,
   "metadata": {
    "ExecuteTime": {
     "end_time": "2019-01-26T05:55:29.706550Z",
     "start_time": "2019-01-26T05:55:29.453774Z"
    }
   },
   "outputs": [],
   "source": [
    "mongoapi.delete_one({'user':'tony'})"
   ]
  },
  {
   "cell_type": "code",
   "execution_count": 88,
   "metadata": {
    "ExecuteTime": {
     "end_time": "2019-01-26T05:56:03.559744Z",
     "start_time": "2019-01-26T05:56:03.365732Z"
    }
   },
   "outputs": [
    {
     "data": {
      "text/plain": [
       "{'_id': ObjectId('5bf35f6641ca692d20e84ace'),\n",
       " 'user': 'lucy',\n",
       " 'id': '32210',\n",
       " 'age': '29',\n",
       " 'products': ['541001', '340740', '450111'],\n",
       " 'date': '2017-04-06'}"
      ]
     },
     "execution_count": 88,
     "metadata": {},
     "output_type": "execute_result"
    },
    {
     "name": "stderr",
     "output_type": "stream",
     "text": [
      "F:\\github\\weixin\\mongoapi.py:40: UserWarning: already exists , not insert!【{'_id': ObjectId('5bf35f6641ca692d20e84ace'), 'user': 'lucy', 'id': '32210', 'age': '29', 'products': ['541001', '340740', '450111'], 'date': '2017-04-06'}】\n",
      "  warnings.warn(f'already exists , not insert!【{post}】')\n"
     ]
    }
   ],
   "source": [
    "for i in collection.find():\n",
    "    i\n",
    "    mongoapi.insert_one(i)"
   ]
  },
  {
   "cell_type": "code",
   "execution_count": 108,
   "metadata": {
    "ExecuteTime": {
     "end_time": "2019-01-26T10:10:46.300467Z",
     "start_time": "2019-01-26T10:10:46.294485Z"
    }
   },
   "outputs": [
    {
     "data": {
      "text/plain": [
       "__repr__(): frank   swiming"
      ]
     },
     "execution_count": 108,
     "metadata": {},
     "output_type": "execute_result"
    }
   ],
   "source": [
    "class Me(object):\n",
    "\n",
    "    def __init__(self, name, hobby):\n",
    "        self.name = name\n",
    "        self.hobby = hobby\n",
    "\n",
    "    def __str__(self):\n",
    "        return (' __str__(): '+self.name + '   ' + self.hobby)\n",
    "\n",
    "    def __repr__(self):\n",
    "        return ('__repr__(): '+self.name + '   ' + self.hobby)\n",
    "\n",
    "\n",
    "me = Me('frank', 'swiming')\n",
    "me\n",
    "\n"
   ]
  },
  {
   "cell_type": "code",
   "execution_count": 14,
   "metadata": {
    "ExecuteTime": {
     "end_time": "2019-01-27T01:29:03.043254Z",
     "start_time": "2019-01-27T01:29:03.039986Z"
    }
   },
   "outputs": [],
   "source": [
    "import itchat"
   ]
  },
  {
   "cell_type": "code",
   "execution_count": 15,
   "metadata": {
    "ExecuteTime": {
     "end_time": "2019-01-27T01:29:04.334221Z",
     "start_time": "2019-01-27T01:29:04.263988Z"
    }
   },
   "outputs": [
    {
     "data": {
      "text/plain": [
       "'4dzFUXKBPA=='"
      ]
     },
     "execution_count": 15,
     "metadata": {},
     "output_type": "execute_result"
    }
   ],
   "source": [
    "uuid = itchat.get_QRuuid()\n",
    "uuid"
   ]
  },
  {
   "cell_type": "code",
   "execution_count": 16,
   "metadata": {
    "ExecuteTime": {
     "end_time": "2019-01-27T01:29:05.206955Z",
     "start_time": "2019-01-27T01:29:05.201969Z"
    }
   },
   "outputs": [
    {
     "ename": "SyntaxError",
     "evalue": "positional argument follows keyword argument (<ipython-input-16-7df67eb0f4c5>, line 1)",
     "output_type": "error",
     "traceback": [
      "\u001b[1;36m  File \u001b[1;32m\"<ipython-input-16-7df67eb0f4c5>\"\u001b[1;36m, line \u001b[1;32m1\u001b[0m\n\u001b[1;33m    itchat.get_QR(uuid=uuid,'./weixinapp/static/weixin/QRcode/weixin.png')\u001b[0m\n\u001b[1;37m                           ^\u001b[0m\n\u001b[1;31mSyntaxError\u001b[0m\u001b[1;31m:\u001b[0m positional argument follows keyword argument\n"
     ]
    }
   ],
   "source": [
    "itchat.get_QR(uuid=uuid,picDir='./weixinapp/static/weixin/QRcode/weixin.png')"
   ]
  },
  {
   "cell_type": "code",
   "execution_count": null,
   "metadata": {},
   "outputs": [],
   "source": []
  }
 ],
 "metadata": {
  "hide_input": false,
  "kernelspec": {
   "display_name": "Python 3",
   "language": "python",
   "name": "python3"
  },
  "toc": {
   "base_numbering": 1,
   "nav_menu": {},
   "number_sections": true,
   "sideBar": true,
   "skip_h1_title": false,
   "title_cell": "Table of Contents",
   "title_sidebar": "Contents",
   "toc_cell": false,
   "toc_position": {},
   "toc_section_display": true,
   "toc_window_display": false
  },
  "varInspector": {
   "cols": {
    "lenName": 16,
    "lenType": 16,
    "lenVar": 40
   },
   "kernels_config": {
    "python": {
     "delete_cmd_postfix": "",
     "delete_cmd_prefix": "del ",
     "library": "var_list.py",
     "varRefreshCmd": "print(var_dic_list())"
    },
    "r": {
     "delete_cmd_postfix": ") ",
     "delete_cmd_prefix": "rm(",
     "library": "var_list.r",
     "varRefreshCmd": "cat(var_dic_list()) "
    }
   },
   "types_to_exclude": [
    "module",
    "function",
    "builtin_function_or_method",
    "instance",
    "_Feature"
   ],
   "window_display": false
  }
 },
 "nbformat": 4,
 "nbformat_minor": 2
}
